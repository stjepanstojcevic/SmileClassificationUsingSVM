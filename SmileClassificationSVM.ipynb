{
 "cells": [
  {
   "cell_type": "markdown",
   "metadata": {
    "id": "9QEGLAovABPW",
    "papermill": {
     "duration": 0.022019,
     "end_time": "2021-03-05T13:01:18.852924",
     "exception": false,
     "start_time": "2021-03-05T13:01:18.830905",
     "status": "completed"
    },
    "tags": []
   },
   "source": [
    "### Učitavanje biblioteka"
   ]
  },
  {
   "cell_type": "code",
   "execution_count": 70,
   "metadata": {
    "execution": {
     "iopub.execute_input": "2021-03-05T13:01:18.903786Z",
     "iopub.status.busy": "2021-03-05T13:01:18.902907Z",
     "iopub.status.idle": "2021-03-05T13:01:20.534669Z",
     "shell.execute_reply": "2021-03-05T13:01:20.533906Z"
    },
    "id": "JFPkk9LUJPzV",
    "papermill": {
     "duration": 1.661053,
     "end_time": "2021-03-05T13:01:20.534912",
     "exception": false,
     "start_time": "2021-03-05T13:01:18.873859",
     "status": "completed"
    },
    "tags": []
   },
   "outputs": [],
   "source": [
    "import math\n",
    "import numpy as np\n",
    "import pandas as pd\n",
    "from sklearn.svm import SVC\n",
    "import seaborn as sns\n",
    "from matplotlib import pyplot as plt\n",
    "from sklearn.preprocessing import StandardScaler\n",
    "from sklearn.model_selection import train_test_split\n",
    "import cv2\n",
    "from sklearn.metrics import confusion_matrix"
   ]
  },
  {
   "cell_type": "markdown",
   "metadata": {
    "id": "27N0euP5Ad7M",
    "papermill": {
     "duration": 0.021097,
     "end_time": "2021-03-05T13:01:20.577655",
     "exception": false,
     "start_time": "2021-03-05T13:01:20.556558",
     "status": "completed"
    },
    "tags": []
   },
   "source": [
    "### Učitavanje skupa podataka"
   ]
  },
  {
   "cell_type": "code",
   "execution_count": 75,
   "metadata": {
    "execution": {
     "iopub.execute_input": "2021-03-05T13:01:20.632310Z",
     "iopub.status.busy": "2021-03-05T13:01:20.631621Z",
     "iopub.status.idle": "2021-03-05T13:01:26.820908Z",
     "shell.execute_reply": "2021-03-05T13:01:26.819651Z"
    },
    "id": "v2n1p2cbZgEo",
    "papermill": {
     "duration": 6.222148,
     "end_time": "2021-03-05T13:01:26.821086",
     "exception": false,
     "start_time": "2021-03-05T13:01:20.598938",
     "status": "completed"
    },
    "tags": []
   },
   "outputs": [],
   "source": [
    "data = pd.read_csv('dataset.csv')"
   ]
  },
  {
   "cell_type": "code",
   "execution_count": 76,
   "metadata": {},
   "outputs": [
    {
     "data": {
      "text/html": [
       "<div>\n",
       "<style scoped>\n",
       "    .dataframe tbody tr th:only-of-type {\n",
       "        vertical-align: middle;\n",
       "    }\n",
       "\n",
       "    .dataframe tbody tr th {\n",
       "        vertical-align: top;\n",
       "    }\n",
       "\n",
       "    .dataframe thead th {\n",
       "        text-align: right;\n",
       "    }\n",
       "</style>\n",
       "<table border=\"1\" class=\"dataframe\">\n",
       "  <thead>\n",
       "    <tr style=\"text-align: right;\">\n",
       "      <th></th>\n",
       "      <th>Unnamed: 0</th>\n",
       "      <th>emotion</th>\n",
       "      <th>pixels</th>\n",
       "    </tr>\n",
       "  </thead>\n",
       "  <tbody>\n",
       "    <tr>\n",
       "      <th>0</th>\n",
       "      <td>0</td>\n",
       "      <td>1</td>\n",
       "      <td>4 0 0 0 0 0 0 0 0 0 0 0 3 15 23 28 48 50 58 84...</td>\n",
       "    </tr>\n",
       "    <tr>\n",
       "      <th>1</th>\n",
       "      <td>1</td>\n",
       "      <td>0</td>\n",
       "      <td>77 78 79 79 78 75 60 55 47 48 58 73 77 79 57 5...</td>\n",
       "    </tr>\n",
       "    <tr>\n",
       "      <th>2</th>\n",
       "      <td>2</td>\n",
       "      <td>0</td>\n",
       "      <td>85 84 90 121 101 102 133 153 153 169 177 189 1...</td>\n",
       "    </tr>\n",
       "    <tr>\n",
       "      <th>3</th>\n",
       "      <td>3</td>\n",
       "      <td>1</td>\n",
       "      <td>39 75 78 58 58 45 49 48 103 156 81 45 41 38 49...</td>\n",
       "    </tr>\n",
       "    <tr>\n",
       "      <th>4</th>\n",
       "      <td>4</td>\n",
       "      <td>1</td>\n",
       "      <td>219 213 206 202 209 217 216 215 219 218 223 23...</td>\n",
       "    </tr>\n",
       "  </tbody>\n",
       "</table>\n",
       "</div>"
      ],
      "text/plain": [
       "   Unnamed: 0  emotion                                             pixels\n",
       "0           0        1  4 0 0 0 0 0 0 0 0 0 0 0 3 15 23 28 48 50 58 84...\n",
       "1           1        0  77 78 79 79 78 75 60 55 47 48 58 73 77 79 57 5...\n",
       "2           2        0  85 84 90 121 101 102 133 153 153 169 177 189 1...\n",
       "3           3        1  39 75 78 58 58 45 49 48 103 156 81 45 41 38 49...\n",
       "4           4        1  219 213 206 202 209 217 216 215 219 218 223 23..."
      ]
     },
     "execution_count": 76,
     "metadata": {},
     "output_type": "execute_result"
    }
   ],
   "source": [
    "data.head()"
   ]
  },
  {
   "cell_type": "markdown",
   "metadata": {
    "id": "lEugVs1D_6dQ",
    "papermill": {
     "duration": 0.021955,
     "end_time": "2021-03-05T13:01:27.047662",
     "exception": false,
     "start_time": "2021-03-05T13:01:27.025707",
     "status": "completed"
    },
    "tags": []
   },
   "source": [
    "### Prikaz skupa podataka"
   ]
  },
  {
   "cell_type": "code",
   "execution_count": 77,
   "metadata": {
    "execution": {
     "iopub.execute_input": "2021-03-05T13:01:27.103172Z",
     "iopub.status.busy": "2021-03-05T13:01:27.102454Z",
     "iopub.status.idle": "2021-03-05T13:01:27.731171Z",
     "shell.execute_reply": "2021-03-05T13:01:27.731670Z"
    },
    "id": "X_hgeksZALgO",
    "outputId": "6ed8cdae-94e3-4f65-b945-9f8cdbca5696",
    "papermill": {
     "duration": 0.661437,
     "end_time": "2021-03-05T13:01:27.731870",
     "exception": false,
     "start_time": "2021-03-05T13:01:27.070433",
     "status": "completed"
    },
    "tags": []
   },
   "outputs": [
    {
     "data": {
      "image/png": "[encoded data removed]",
      "text/plain": [
       "<Figure size 1008x1008 with 2 Axes>"
      ]
     },
     "metadata": {},
     "output_type": "display_data"
    }
   ],
   "source": [
    "#označili smo s riječi \"smile\" svaki podataka na kojemu se osoba smije i s \"no smile\" svaki podatak na kojemu se osoba ne smije\n",
    "emotion_label_to_text={0:'smile',1:'no smile'}\n",
    "#želimo prikazati po jednu sliku od obe emocije koje imamo tj. jednu sliku smijeha i jednu bez smijeha \n",
    "fig = plt.figure(1, (14,14))\n",
    "k = c = 0\n",
    "for i in data[\"emotion\"]:\n",
    "    if i == 0 or i == 1:\n",
    "        c+=1\n",
    "    for j in range(1):\n",
    "        k += 1\n",
    "        px = data[data.emotion==i].pixels.iloc[k]\n",
    "        px = np.array(px.split(' ')).reshape(48, 48).astype('float32')\n",
    "        ax = plt.subplot(7,7, k)\n",
    "        ax.imshow(px , cmap='gray')\n",
    "        ax.set_xticks([])\n",
    "        ax.set_yticks([])\n",
    "        ax.set_title(emotion_label_to_text[i])\n",
    "        plt.tight_layout()\n",
    "    if c == 2:\n",
    "        break"
   ]
  },
  {
   "cell_type": "markdown",
   "metadata": {
    "id": "-UZum1Kj6_M7",
    "papermill": {
     "duration": 0.02508,
     "end_time": "2021-03-05T13:01:27.781681",
     "exception": false,
     "start_time": "2021-03-05T13:01:27.756601",
     "status": "completed"
    },
    "tags": []
   },
   "source": [
    "### Pretvaranje csv dokumenta u formu koju možemo koristiti za naš problem"
   ]
  },
  {
   "cell_type": "code",
   "execution_count": 78,
   "metadata": {
    "execution": {
     "iopub.execute_input": "2021-03-05T13:01:27.992554Z",
     "iopub.status.busy": "2021-03-05T13:01:27.838636Z",
     "iopub.status.idle": "2021-03-05T13:02:45.719914Z",
     "shell.execute_reply": "2021-03-05T13:02:45.718705Z"
    },
    "id": "L_m-E9B47qKE",
    "papermill": {
     "duration": 77.913226,
     "end_time": "2021-03-05T13:02:45.720088",
     "exception": false,
     "start_time": "2021-03-05T13:01:27.806862",
     "status": "completed"
    },
    "tags": []
   },
   "outputs": [],
   "source": [
    "X = data.pixels.apply(lambda x: np.array(x.split(' ')).astype('float32'))\n",
    "X = np.stack(X, axis=0)\n",
    "Y = np.array(data['emotion'])"
   ]
  },
  {
   "cell_type": "code",
   "execution_count": 79,
   "metadata": {},
   "outputs": [
    {
     "data": {
      "text/plain": [
       "array([[  4.,   0.,   0., ...,  30.,  29.,  30.],\n",
       "       [ 77.,  78.,  79., ..., 125.,  67.,  68.],\n",
       "       [ 85.,  84.,  90., ...,  58.,  73.,  84.],\n",
       "       ...,\n",
       "       [ 50.,  36.,  17., ..., 223., 221., 216.],\n",
       "       [178., 174., 172., ...,   0.,   0.,   0.],\n",
       "       [ 30.,  28.,  28., ...,  35.,  30.,  28.]], dtype=float32)"
      ]
     },
     "execution_count": 79,
     "metadata": {},
     "output_type": "execute_result"
    }
   ],
   "source": [
    "X #slike su crno bijele pa je svaki pixel broj 0-255 kao nijansa između bijele i crne"
   ]
  },
  {
   "cell_type": "markdown",
   "metadata": {
    "id": "5Bkn66Lr3AJC",
    "papermill": {
     "duration": 0.026885,
     "end_time": "2021-03-05T13:02:45.892910",
     "exception": false,
     "start_time": "2021-03-05T13:02:45.866025",
     "status": "completed"
    },
    "tags": []
   },
   "source": [
    "# Predobrada\n",
    "Obrada lica "
   ]
  },
  {
   "cell_type": "code",
   "execution_count": 80,
   "metadata": {
    "execution": {
     "iopub.execute_input": "2021-03-05T13:02:45.953700Z",
     "iopub.status.busy": "2021-03-05T13:02:45.952979Z",
     "iopub.status.idle": "2021-03-05T13:02:46.002991Z",
     "shell.execute_reply": "2021-03-05T13:02:46.002227Z"
    },
    "id": "WKe-bgr41DhI",
    "papermill": {
     "duration": 0.083154,
     "end_time": "2021-03-05T13:02:46.003159",
     "exception": false,
     "start_time": "2021-03-05T13:02:45.920005",
     "status": "completed"
    },
    "tags": []
   },
   "outputs": [],
   "source": [
    "#ugrađene opencv klase za detekciju lica na slici\n",
    "eyeCascade = cv2.CascadeClassifier(cv2.data.haarcascades + 'haarcascade_eye.xml')\n",
    "faceCascade = cv2.CascadeClassifier(cv2.data.haarcascades + 'haarcascade_frontalface_default.xml')"
   ]
  },
  {
   "cell_type": "code",
   "execution_count": 81,
   "metadata": {
    "execution": {
     "iopub.execute_input": "2021-03-05T13:02:46.073279Z",
     "iopub.status.busy": "2021-03-05T13:02:46.072098Z",
     "iopub.status.idle": "2021-03-05T13:02:46.075328Z",
     "shell.execute_reply": "2021-03-05T13:02:46.074821Z"
    },
    "id": "RauEPNDt1UNq",
    "papermill": {
     "duration": 0.046111,
     "end_time": "2021-03-05T13:02:46.075477",
     "exception": false,
     "start_time": "2021-03-05T13:02:46.029366",
     "status": "completed"
    },
    "tags": []
   },
   "outputs": [],
   "source": [
    "#funkcija za obradu lica\n",
    "def faceAlignment(image):\n",
    "  size = image.shape\n",
    "  #širina i visina slike\n",
    "  height, width = image.shape[:2]\n",
    "  #računanje središta slike\n",
    "  center = (width // 2, height // 2)\n",
    "  \n",
    "  #od očiju stvaramo varijable (pomoću ugrađene klase) kako bi ih kasnije mogli koristiti\n",
    "  eyes = eyeCascade.detectMultiScale(image, 2, 10)\n",
    "  if len(eyes) == 2 : \n",
    "    i=0\n",
    "    #proces razdvajanja lijevog i desnog oka u dvije zasebne varijable iz varijable eyes\n",
    "    for (e1 , e2,  e3,  e4) in eyes:\n",
    "      if i == 0:\n",
    "        eye1 = (e1, e2, e3, e4)\n",
    "      else:\n",
    "        eye2 = (e1, e2, e3, e4)\n",
    "      i += 1\n",
    "    if eye1[0] > eye2[0]:\n",
    "      leftEye = eye2\n",
    "      rightEye = eye1\n",
    "    else:\n",
    "      leftEye = eye1\n",
    "      rightEye = eye2\n",
    "        \n",
    "    #pronalazak središa oba oka\n",
    "    rightEyeCenter = (int(rightEye[0] + (rightEye[2]/2)), int(rightEye[1] + (rightEye[3]/2)))\n",
    "    rightEyeX = rightEyeCenter[0]\n",
    "    rightEyeY = rightEyeCenter[1]\n",
    "    \n",
    "    leftEyeCenter = (int(leftEye[0] + (leftEye[2] / 2)), int(leftEye[1] + (leftEye[3] / 2)))\n",
    "    leftEyeX = leftEyeCenter[0] \n",
    "    leftEyeY = leftEyeCenter[1]\n",
    "    \n",
    "    deltaX = rightEyeX - leftEyeX\n",
    "    deltaY = rightEyeY - leftEyeY\n",
    "    angle = np.arctan(deltaY/deltaX)\n",
    "    angle = (angle * 180) / np.pi\n",
    "    #definiranje nove matrice za rotaciju oko središta slike\n",
    "    M = cv2.getRotationMatrix2D(center, (angle), 1.0)\n",
    "    #primjena rotacije na našu sliku uz pomoć matrice M koju smo definirali i ugrađene funkcije\n",
    "    image = cv2.warpAffine(image, M, (width, height))\n",
    "\n",
    "    #ponovna detekcija lica s ugrađenom klasom\n",
    "    faces = faceCascade.detectMultiScale(image, 2, 10)\n",
    "    if len(faces) > 0 : \n",
    "      (x,y,width,height) = faces[0]\n",
    "      image = image[y:y+height, x:x+width]\n",
    "\n",
    "  image = cv2.resize(image,size) \n",
    "  return image"
   ]
  },
  {
   "cell_type": "markdown",
   "metadata": {},
   "source": [
    "### Primjena definirane funkcije na naš skup podataka"
   ]
  },
  {
   "cell_type": "code",
   "execution_count": 82,
   "metadata": {
    "execution": {
     "iopub.execute_input": "2021-03-05T13:02:46.139533Z",
     "iopub.status.busy": "2021-03-05T13:02:46.138755Z",
     "iopub.status.idle": "2021-03-05T13:02:58.969248Z",
     "shell.execute_reply": "2021-03-05T13:02:58.968040Z"
    },
    "id": "9A5NId4E4hXB",
    "papermill": {
     "duration": 12.866655,
     "end_time": "2021-03-05T13:02:58.969417",
     "exception": false,
     "start_time": "2021-03-05T13:02:46.102762",
     "status": "completed"
    },
    "tags": []
   },
   "outputs": [],
   "source": [
    "XNew = []\n",
    "for i in range(X.shape[0]):\n",
    "  image = np.array(X[i]).reshape(48,48)\n",
    "  image = np.array(image, dtype='uint8')\n",
    "  image = faceAlignment(image)\n",
    "  XNew.append(np.array(image).reshape(48*48))\n",
    "X = np.array(XNew)"
   ]
  },
  {
   "cell_type": "markdown",
   "metadata": {
    "id": "u2L5tZPzIjmo",
    "papermill": {
     "duration": 0.028971,
     "end_time": "2021-03-05T13:02:59.152167",
     "exception": false,
     "start_time": "2021-03-05T13:02:59.123196",
     "status": "completed"
    },
    "tags": []
   },
   "source": [
    "### Podjela podataka na skup za treniranje i testiranje u omjeru 75:25\n"
   ]
  },
  {
   "cell_type": "code",
   "execution_count": 83,
   "metadata": {
    "execution": {
     "iopub.execute_input": "2021-03-05T13:02:59.215787Z",
     "iopub.status.busy": "2021-03-05T13:02:59.214770Z",
     "iopub.status.idle": "2021-03-05T13:02:59.282589Z",
     "shell.execute_reply": "2021-03-05T13:02:59.283145Z"
    },
    "id": "0c1CFeRC-Snf",
    "outputId": "b0759052-13ef-456e-f08f-a4aaf66ee413",
    "papermill": {
     "duration": 0.102513,
     "end_time": "2021-03-05T13:02:59.283326",
     "exception": false,
     "start_time": "2021-03-05T13:02:59.180813",
     "status": "completed"
    },
    "tags": []
   },
   "outputs": [],
   "source": [
    "X_train, X_test, y_train, y_test = train_test_split(X, Y, test_size=0.25, random_state=0)"
   ]
  },
  {
   "cell_type": "markdown",
   "metadata": {},
   "source": [
    "### Skaliranje podataka pomoću ugrađenog StandardScaler-a"
   ]
  },
  {
   "cell_type": "code",
   "execution_count": 84,
   "metadata": {
    "execution": {
     "iopub.execute_input": "2021-03-05T13:02:59.404432Z",
     "iopub.status.busy": "2021-03-05T13:02:59.403111Z",
     "iopub.status.idle": "2021-03-05T13:03:33.154404Z",
     "shell.execute_reply": "2021-03-05T13:03:33.155362Z"
    },
    "id": "8X4K-fKLe6HD",
    "outputId": "ecc243e7-b56d-46d7-a502-fa7fc81cd9aa",
    "papermill": {
     "duration": 33.787654,
     "end_time": "2021-03-05T13:03:33.155616",
     "exception": false,
     "start_time": "2021-03-05T13:02:59.367962",
     "status": "completed"
    },
    "tags": []
   },
   "outputs": [],
   "source": [
    "scaler = StandardScaler()\n",
    "X_train = scaler.fit_transform(X_train.astype(np.float32))\n",
    "X_test = scaler.transform(X_test.astype(np.float32))"
   ]
  },
  {
   "cell_type": "markdown",
   "metadata": {
    "id": "9RQub0P71cFS",
    "papermill": {
     "duration": 0.04152,
     "end_time": "2021-03-05T13:03:33.241013",
     "exception": false,
     "start_time": "2021-03-05T13:03:33.199493",
     "status": "completed"
    },
    "tags": []
   },
   "source": [
    "# SVM - metoda potpornih vektora"
   ]
  },
  {
   "cell_type": "code",
   "execution_count": 85,
   "metadata": {
    "execution": {
     "iopub.execute_input": "2021-03-05T13:03:33.410638Z",
     "iopub.status.busy": "2021-03-05T13:03:33.409328Z",
     "iopub.status.idle": "2021-03-05T13:42:32.659115Z",
     "shell.execute_reply": "2021-03-05T13:42:32.659662Z"
    },
    "id": "RevNX7LUNRYk",
    "papermill": {
     "duration": 2339.297413,
     "end_time": "2021-03-05T13:42:32.659895",
     "exception": false,
     "start_time": "2021-03-05T13:03:33.362482",
     "status": "completed"
    },
    "tags": []
   },
   "outputs": [
    {
     "data": {
      "text/plain": [
       "0.7692915459573347"
      ]
     },
     "execution_count": 85,
     "metadata": {},
     "output_type": "execute_result"
    }
   ],
   "source": [
    "clf = SVC().fit(X_train,y_train) #izradili smo model clf i fit-amo ga na skup za treniranje \n",
    "clf.score(X_test , y_test) #potom ga primjenimo na skup za testiranje i ispišemo učinak"
   ]
  },
  {
   "cell_type": "markdown",
   "metadata": {},
   "source": [
    "### Prikaz matrice zabune dobivenih rezultata"
   ]
  },
  {
   "cell_type": "code",
   "execution_count": 86,
   "metadata": {},
   "outputs": [
    {
     "data": {
      "image/png": "[encoded data removed]",
      "text/plain": [
       "<Figure size 432x288 with 2 Axes>"
      ]
     },
     "metadata": {
      "needs_background": "light"
     },
     "output_type": "display_data"
    }
   ],
   "source": [
    "y_hat = clf.predict(X_test)\n",
    "cf_matrix = confusion_matrix(y_test, y_hat) #za matricu zabune \n",
    "sns.heatmap(cf_matrix, linewidths=1, annot=True) #crtanje matrice zabune\n",
    "plt.show() "
   ]
  }
 ],
 "metadata": {
  "kernelspec": {
   "display_name": "Python 3 (ipykernel)",
   "language": "python",
   "name": "python3"
  },
  "language_info": {
   "codemirror_mode": {
    "name": "ipython",
    "version": 3
   },
   "file_extension": ".py",
   "mimetype": "text/x-python",
   "name": "python",
   "nbconvert_exporter": "python",
   "pygments_lexer": "ipython3",
   "version": "3.9.7"
  },
  "papermill": {
   "default_parameters": {},
   "duration": 4315.222513,
   "end_time": "2021-03-05T14:13:07.743198",
   "environment_variables": {},
   "exception": null,
   "input_path": "__notebook__.ipynb",
   "output_path": "__notebook__.ipynb",
   "parameters": {},
   "start_time": "2021-03-05T13:01:12.520685",
   "version": "2.2.2"
  }
 },
 "nbformat": 4,
 "nbformat_minor": 4
}
